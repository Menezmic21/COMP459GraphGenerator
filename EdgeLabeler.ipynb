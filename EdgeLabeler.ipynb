{
 "cells": [
  {
   "cell_type": "code",
   "execution_count": null,
   "metadata": {},
   "outputs": [],
   "source": [
    "import numpy as np\n",
    "from torch_geometric.datasets import ZINC"
   ]
  },
  {
   "cell_type": "markdown",
   "metadata": {},
   "source": [
    "Create Mock Dataset"
   ]
  },
  {
   "cell_type": "code",
   "execution_count": null,
   "metadata": {},
   "outputs": [],
   "source": [
    "dataset = ZINC(root = 'data', split='train') # valid, test\n",
    "edge_features = np.empty((2, 0))\n",
    "edge_labels = np.empty((1,0))\n",
    "\n",
    "ngraphs = 10000\n",
    "\n",
    "for idx in range(ngraphs):\n",
    "    \n",
    "    graph = dataset[idx]\n",
    "    \n",
    "    features = np.empty((2, len(graph.edge_attr)))\n",
    "    \n",
    "    for edge_idx, edge  in enumerate(graph.edge_index.transpose(0, 1)):\n",
    "        features[:, edge_idx] = [graph.x[edge[0]].item(), graph.x[edge[1]].item()] \n",
    "        \n",
    "    edge_features = np.append(edge_features, features, axis = 1)\n",
    "    edge_labels = np.append(edge_labels, graph.edge_attr)"
   ]
  },
  {
   "cell_type": "markdown",
   "metadata": {},
   "source": [
    "Train Classifier"
   ]
  },
  {
   "cell_type": "code",
   "execution_count": null,
   "metadata": {},
   "outputs": [],
   "source": [
    "from sklearn.tree import DecisionTreeClassifier\n",
    "from sklearn.ensemble import RandomForestClassifier\n",
    "from sklearn.model_selection import train_test_split\n",
    "\n",
    "classifier = DecisionTreeClassifier()\n",
    "x_train, x_test, y_train, y_test = train_test_split(edge_features.T, edge_labels)\n",
    "\n",
    "classifier.fit(x_train, y_train)\n",
    "print(\"Accuracy:\", classifier.score(x_test, y_test))"
   ]
  }
 ],
 "metadata": {
  "language_info": {
   "name": "python"
  }
 },
 "nbformat": 4,
 "nbformat_minor": 2
}
