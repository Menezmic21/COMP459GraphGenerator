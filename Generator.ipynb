{
  "nbformat": 4,
  "nbformat_minor": 0,
  "metadata": {
    "colab": {
      "provenance": []
    },
    "kernelspec": {
      "name": "python3",
      "display_name": "Python 3"
    },
    "language_info": {
      "name": "python"
    }
  },
  "cells": [
    {
      "cell_type": "code",
      "source": [
        "from google.colab import drive\n",
        "drive.mount('/content/drive')"
      ],
      "metadata": {
        "id": "qXWGYKitd2Eo"
      },
      "execution_count": null,
      "outputs": []
    },
    {
      "cell_type": "code",
      "source": [
        "!pip install -q torch_geometric"
      ],
      "metadata": {
        "id": "eLpyV2jcw8H9"
      },
      "execution_count": null,
      "outputs": []
    },
    {
      "cell_type": "code",
      "execution_count": 85,
      "metadata": {
        "id": "vRJ23JPddk74"
      },
      "outputs": [],
      "source": [
        "import tensorflow as tf\n",
        "import torch\n",
        "import torch.nn as nn\n",
        "import torch.nn.functional as F\n",
        "import networkx as nx\n",
        "import numpy as np\n",
        "import pickle"
      ]
    },
    {
      "cell_type": "code",
      "source": [
        "class Autoencoder(nn.Module):\n",
        "    def __init__(self, input_dim, latent_dims):\n",
        "        super(Autoencoder, self).__init__()\n",
        "        self.encoder = Encoder(input_dim, latent_dims)\n",
        "        self.decoder = Decoder(input_dim, latent_dims)\n",
        "\n",
        "    def forward(self, x):\n",
        "        z = self.encoder(x)\n",
        "        return self.decoder(z)\n",
        "\n",
        "class Decoder(nn.Module):\n",
        "    def __init__(self, input_dim, latent_dims):\n",
        "        super(Decoder, self).__init__()\n",
        "        self.linear1 = nn.Linear(latent_dims, 512)\n",
        "        self.linear2 = nn.Linear(512, input_dim)\n",
        "\n",
        "    def forward(self, z):\n",
        "        z = F.relu(self.linear1(z))\n",
        "        z = torch.sigmoid(self.linear2(z))\n",
        "        return z\n",
        "\n",
        "class Encoder(nn.Module):\n",
        "    def __init__(self, input_dim, latent_dims):\n",
        "        super(Encoder, self).__init__()\n",
        "        self.linear1 = nn.Linear(input_dim, 512)\n",
        "        self.linear2 = nn.Linear(512, latent_dims)\n",
        "\n",
        "    def forward(self, x):\n",
        "        x = torch.flatten(x, start_dim=1)\n",
        "        x = F.relu(self.linear1(x))\n",
        "        return self.linear2(x)\n",
        "\n",
        "class BaseNetwork(nn.Module):\n",
        "  \"\"\"\n",
        "  A simple neural network with one hidden layer.\n",
        "  \"\"\"\n",
        "  def __init__(self, in_features, hidden_size, out_features):\n",
        "    \"\"\"\n",
        "    Initializes the network architecture.\n",
        "\n",
        "    Args:\n",
        "        in_features: Number of features in the input data.\n",
        "        hidden_size: Number of neurons in the hidden layer.\n",
        "        out_features: Number of features in the output layer.\n",
        "    \"\"\"\n",
        "    super(BaseNetwork, self).__init__()\n",
        "\n",
        "    # Define layers\n",
        "    self.linear1 = nn.Linear(in_features, hidden_size)\n",
        "    self.linear2 = nn.Linear(hidden_size, out_features)\n",
        "    self.activation = nn.Softmax(dim=0)  # ReLU activation function (replace if needed)\n",
        "\n",
        "  def forward(self, x):\n",
        "    \"\"\"\n",
        "    Defines the forward pass of the network.\n",
        "\n",
        "    Args:\n",
        "        x: Input tensor of shape (batch_size, in_features).\n",
        "\n",
        "    Returns:\n",
        "        out: Output tensor of shape (batch_size, out_features).\n",
        "    \"\"\"\n",
        "    # Hidden layer\n",
        "    hidden = self.linear1(x)\n",
        "\n",
        "    # Output layer with activation\n",
        "    out = self.activation(self.linear2(hidden))\n",
        "\n",
        "    return out"
      ],
      "metadata": {
        "id": "pTzE5Y64gCjK"
      },
      "execution_count": 77,
      "outputs": []
    },
    {
      "cell_type": "code",
      "source": [
        "structure_generator = tf.keras.models.load_model('/content/drive/MyDrive/Classes/Spring 24/COMP 459/Project/Models/decoder.h5')\n",
        "feature_generator = torch.load('/content/drive/MyDrive/Classes/Spring 24/COMP 459/Project/Models/autoencoder.pth', map_location=torch.device('cpu'))\n",
        "node_labeler = torch.load('/content/drive/MyDrive/Classes/Spring 24/COMP 459/Project/Models/node_label_embeder.pth', map_location=torch.device('cpu'))"
      ],
      "metadata": {
        "id": "c_6MvfDTdn0w"
      },
      "execution_count": null,
      "outputs": []
    },
    {
      "cell_type": "code",
      "source": [
        "LATENT_DIM = 400\n",
        "BOND_DIM = 5\n",
        "\n",
        "def generate_structure (structure_generator):\n",
        "\n",
        "  # Generate structure\n",
        "  z = tf.random.normal((1, LATENT_DIM))\n",
        "  reconstruction_adjacency, reconstruction_features = structure_generator.predict(z)\n",
        "\n",
        "  # Process adjacency matrix\n",
        "  adjacency = tf.argmax(reconstruction_adjacency, axis=1)[0]\n",
        "  adjacency = adjacency < BOND_DIM - 1\n",
        "\n",
        "  # Filter out unconnected nodes\n",
        "  adjacency = np.array(adjacency)\n",
        "  adjacency = adjacency[np.any(adjacency != 0, axis=1)][:, np.any(adjacency != 0, axis=0)]\n",
        "\n",
        "  # Get NetworkX graph\n",
        "  return nx.Graph(adjacency)\n",
        "\n",
        "graph = generate_structure(structure_generator)\n",
        "nx.draw(graph)"
      ],
      "metadata": {
        "id": "_EPY5Smpea_N"
      },
      "execution_count": null,
      "outputs": []
    },
    {
      "cell_type": "code",
      "source": [
        "max_len = 10\n",
        "\n",
        "def revert_onehot(tensor):\n",
        "    splits = torch.chunk(tensor.squeeze(), max_len)\n",
        "    row_lst = []\n",
        "    for split in splits:\n",
        "        subsplits = torch.split(split, [4, 28, 28])\n",
        "        # print(subsplits)\n",
        "        e = torch.argmax(subsplits[0])\n",
        "        v1 = torch.argmax(subsplits[1])\n",
        "        v2 = torch.argmax(subsplits[2])\n",
        "        row_lst.append(torch.tensor((e, v1, v2)))\n",
        "    return torch.stack(row_lst)\n",
        "\n",
        "def generate_feature_set(feature_generator):\n",
        "    # Sample a random point in the latent space\n",
        "    latent_dims = 2\n",
        "    z = torch.randn(1, latent_dims)\n",
        "\n",
        "    # Decode the sampled latent vector to get a new vector\n",
        "    return revert_onehot(feature_generator.decoder(z))\n",
        "\n",
        "generate_feature_set(feature_generator)"
      ],
      "metadata": {
        "id": "ayvwlg74kllt"
      },
      "execution_count": null,
      "outputs": []
    },
    {
      "cell_type": "code",
      "source": [
        "import random\n",
        "\n",
        "def re_name_walk(walk):\n",
        "    mapping = {}\n",
        "    next_num = 0\n",
        "    new_walk = []\n",
        "    for node in walk:\n",
        "        if node in mapping.keys():\n",
        "            new_walk.append(mapping[node])\n",
        "        mapping[node] = next_num\n",
        "        new_walk.append(mapping[node])\n",
        "        next_num = next_num + 1\n",
        "    return new_walk\n",
        "\n",
        "def random_walk(G, start_node, walk_length):\n",
        "    walk = [start_node]\n",
        "    current_node = start_node\n",
        "    for _ in range(walk_length):\n",
        "        # Get neighbors of the current node\n",
        "        neighbors = list(G.neighbors(current_node))\n",
        "        if not neighbors:  # Handle case with isolated nodes\n",
        "            break\n",
        "        # Randomly choose a neighbor\n",
        "        next_node = random.choice(neighbors)\n",
        "        walk.append(next_node)\n",
        "        current_node = next_node\n",
        "    return re_name_walk(walk)\n",
        "\n",
        "def get_node_label_fr_walk(model, walk, feature_tnsr):\n",
        "  a_tnsr = torch.tensor(walk).float()\n",
        "  b_tnsr = torch.flatten(feature_tnsr)\n",
        "  c_tnsr = torch.cat((a_tnsr, b_tnsr))\n",
        "  return model(c_tnsr)"
      ],
      "metadata": {
        "id": "nJig62XgqtWf"
      },
      "execution_count": 82,
      "outputs": []
    },
    {
      "cell_type": "code",
      "source": [
        "walk_length = 3\n",
        "\n",
        "def label_nodes (graph, node_labeler, feature_generator):\n",
        "\n",
        "  node_features  = {}\n",
        "\n",
        "  for node in range(len(graph.nodes)):\n",
        "      walk = random_walk(graph, node, walk_length)\n",
        "      feature_set = generate_feature_set(feature_generator)\n",
        "      preds = get_node_label_fr_walk(node_labeler, walk[:walk_length], feature_set)\n",
        "      pred = torch.argmax(preds)\n",
        "\n",
        "      node_features[node] = pred.item()\n",
        "\n",
        "  nx.set_node_attributes(graph, node_features, name=\"x\")\n",
        "\n",
        "label_nodes(graph, node_labeler, feature_generator)"
      ],
      "metadata": {
        "id": "WR5t18t-jJeE"
      },
      "execution_count": 113,
      "outputs": []
    },
    {
      "cell_type": "code",
      "source": [
        "# from torch_geometric.datasets import ZINC\n",
        "# dataset = ZINC(root = 'data', split='train')\n",
        "\n",
        "# edge_features = np.empty((2, 0))\n",
        "# edge_labels = np.empty((1,0))\n",
        "\n",
        "# ngraphs = 10000\n",
        "\n",
        "# for idx in range(ngraphs):\n",
        "\n",
        "#     graph = dataset[idx]\n",
        "\n",
        "#     features = np.empty((2, len(graph.edge_attr)))\n",
        "\n",
        "#     for edge_idx, edge  in enumerate(graph.edge_index.transpose(0, 1)):\n",
        "#         features[:, edge_idx] = [graph.x[edge[0]].item(), graph.x[edge[1]].item()]\n",
        "\n",
        "#     edge_features = np.append(edge_features, features, axis = 1)\n",
        "#     edge_labels = np.append(edge_labels, graph.edge_attr)\n",
        "\n",
        "# from sklearn.tree import DecisionTreeClassifier\n",
        "# from sklearn.model_selection import train_test_split\n",
        "\n",
        "# classifier = DecisionTreeClassifier()\n",
        "# x_train, x_test, y_train, y_test = train_test_split(edge_features.T, edge_labels)\n",
        "\n",
        "# classifier.fit(x_train, y_train)\n",
        "# print(\"Accuracy:\", classifier.score(x_test, y_test))\n",
        "\n",
        "# edge_labeler = classifier\n",
        "\n",
        "with open('/content/drive/MyDrive/Classes/Spring 24/COMP 459/Project/Models/edge_labeler.pkl', 'rb') as f:\n",
        "    edge_labeler = pickle.load(f)"
      ],
      "metadata": {
        "id": "MaJ2XWmfw03C"
      },
      "execution_count": null,
      "outputs": []
    },
    {
      "cell_type": "code",
      "source": [
        "def label_edges (graph, edge_labeler):\n",
        "\n",
        "  for edge  in graph.edges:\n",
        "    edge_label = edge_labeler.predict([[graph.nodes[edge[0]]['x'], graph.nodes[edge[1]]['x']]]).item()\n",
        "    graph[edge[0]][edge[1]]['x'] = edge_label\n",
        "\n",
        "label_edges(graph, edge_labeler)"
      ],
      "metadata": {
        "id": "_J2q3Ef2vq_Y"
      },
      "execution_count": 124,
      "outputs": []
    },
    {
      "cell_type": "code",
      "source": [
        "def generate (structure_generator, feature_generator, node_labeler, edge_labeler):\n",
        "  graph = generate_structure(structure_generator)\n",
        "  label_nodes(graph, node_labeler, feature_generator)\n",
        "  label_edges(graph, edge_labeler)\n",
        "  return graph\n",
        "\n",
        "graph = generate(structure_generator, feature_generator, node_labeler, edge_labeler)"
      ],
      "metadata": {
        "id": "_X8MNw1od8Gb"
      },
      "execution_count": 129,
      "outputs": []
    }
  ]
}